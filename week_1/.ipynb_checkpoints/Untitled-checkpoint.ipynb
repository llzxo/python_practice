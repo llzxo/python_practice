{
 "cells": [
  {
   "cell_type": "code",
   "execution_count": 1,
   "metadata": {
    "collapsed": true
   },
   "outputs": [],
   "source": [
    "from bs4 import BeautifulSoup"
   ]
  },
  {
   "cell_type": "code",
   "execution_count": 2,
   "metadata": {
    "collapsed": true
   },
   "outputs": [],
   "source": [
    "soup = open('../Plan-for-combating-master/week1/1_2/1_2answer_of_homework/1_2_homework_required/index.html','r')"
   ]
  },
  {
   "cell_type": "code",
   "execution_count": 3,
   "metadata": {
    "collapsed": false
   },
   "outputs": [
    {
     "name": "stdout",
     "output_type": "stream",
     "text": [
      "<open file '../Plan-for-combating-master/week1/1_2/1_2answer_of_homework/1_2_homework_required/index.html', mode 'r' at 0x7f0af0b33390>\n"
     ]
    }
   ],
   "source": [
    "print soup"
   ]
  },
  {
   "cell_type": "code",
   "execution_count": 4,
   "metadata": {
    "collapsed": false
   },
   "outputs": [
    {
     "name": "stdout",
     "output_type": "stream",
     "text": [
      "<open file '../Plan-for-combating-master/week1/1_2/1_2answer_of_homework/1_2_homework_required/index.html', mode 'r' at 0x7f0af0b33390>\n"
     ]
    }
   ],
   "source": [
    "print (soup)"
   ]
  },
  {
   "cell_type": "code",
   "execution_count": 5,
   "metadata": {
    "collapsed": true
   },
   "outputs": [],
   "source": [
    "Soup = BeautifulSoup(soup,'lxml')"
   ]
  },
  {
   "cell_type": "code",
   "execution_count": 6,
   "metadata": {
    "collapsed": false
   },
   "outputs": [
    {
     "name": "stdout",
     "output_type": "stream",
     "text": [
      "<!DOCTYPE html>\n",
      "<html lang=\"en\">\n",
      "<head>\n",
      "<meta charset=\"utf-8\"/>\n",
      "<meta content=\"IE=edge\" http-equiv=\"X-UA-Compatible\"/>\n",
      "<meta content=\"width=device-width, initial-scale=1\" name=\"viewport\"/>\n",
      "<meta content=\"\" name=\"description\"/>\n",
      "<meta content=\"\" name=\"author\"/>\n",
      "<title>Shop Homepage - Start Bootstrap Template</title>\n",
      "<!-- Bootstrap Core CSS -->\n",
      "<link href=\"css/bootstrap.min.css\" rel=\"stylesheet\"/>\n",
      "<!-- Custom CSS -->\n",
      "<link href=\"css/shop-homepage.css\" rel=\"stylesheet\"/>\n",
      "<!-- HTML5 Shim and Respond.js IE8 support of HTML5 elements and media queries -->\n",
      "<!-- WARNING: Respond.js doesn't work if you view the page via file:// -->\n",
      "<!--[if lt IE 9]>\n",
      "        <script src=\"https://oss.maxcdn.com/libs/html5shiv/3.7.0/html5shiv.js\"></script>\n",
      "        <script src=\"https://oss.maxcdn.com/libs/respond.js/1.4.2/respond.min.js\"></script>\n",
      "        <![endif]-->\n",
      "</head>\n",
      "<body>\n",
      "<!-- Navigation -->\n",
      "<nav class=\"navbar navbar-inverse navbar-fixed-top\" role=\"navigation\">\n",
      "<div class=\"container\">\n",
      "<!-- Brand and toggle get grouped for better mobile display -->\n",
      "<div class=\"navbar-header\">\n",
      "<button class=\"navbar-toggle\" data-target=\"#bs-example-navbar-collapse-1\" data-toggle=\"collapse\" type=\"button\">\n",
      "<span class=\"sr-only\">Toggle navigation</span>\n",
      "<span class=\"icon-bar\"></span>\n",
      "<span class=\"icon-bar\"></span>\n",
      "<span class=\"icon-bar\"></span>\n",
      "</button>\n",
      "<a class=\"navbar-brand\" href=\"#\">Web Parse</a>\n",
      "</div>\n",
      "<!-- Collect the nav links, forms, and other content for toggling -->\n",
      "<div class=\"collapse navbar-collapse\" id=\"bs-example-navbar-collapse-1\">\n",
      "<ul class=\"nav navbar-nav\">\n",
      "<li>\n",
      "<a href=\"#\">Home</a>\n",
      "</li>\n",
      "<li>\n",
      "<a href=\"#\">Other</a>\n",
      "</li>\n",
      "<li>\n",
      "<a href=\"#\">Contact</a>\n",
      "</li>\n",
      "</ul>\n",
      "</div>\n",
      "<!-- /.navbar-collapse -->\n",
      "</div>\n",
      "<!-- /.container -->\n",
      "</nav>\n",
      "<!-- Page Content -->\n",
      "<div class=\"container\">\n",
      "<div class=\"row\">\n",
      "<div class=\"col-md-3\">\n",
      "<p class=\"lead\">Shop Name</p>\n",
      "<div class=\"list-group\">\n",
      "<a class=\"list-group-item\" href=\"#\">Category 1</a>\n",
      "<a class=\"list-group-item\" href=\"#\">Category 2</a>\n",
      "<a class=\"list-group-item\" href=\"#\">Category 3</a>\n",
      "</div>\n",
      "</div>\n",
      "<div class=\"col-md-9\">\n",
      "<div class=\"row carousel-holder\">\n",
      "<div class=\"col-md-12\">\n",
      "<div class=\"carousel slide\" data-ride=\"carousel\" id=\"carousel-example-generic\">\n",
      "<ol class=\"carousel-indicators\">\n",
      "<li class=\"\" data-slide-to=\"0\" data-target=\"#carousel-example-generic\"></li>\n",
      "<li class=\"\" data-slide-to=\"1\" data-target=\"#carousel-example-generic\"></li>\n",
      "<li class=\"active\" data-slide-to=\"2\" data-target=\"#carousel-example-generic\"></li>\n",
      "</ol>\n",
      "<div class=\"carousel-inner\">\n",
      "<div class=\"item\">\n",
      "<img alt=\"\" class=\"slide-image\" src=\"img/pic800_0000_12.jpg\"/>\n",
      "</div>\n",
      "<div class=\"item\">\n",
      "<img alt=\"\" class=\"slide-image\" src=\"img/pic8_0002_b43bf91d0e8ffc5f08bd68d3ee90b9b9.jpg\"/>\n",
      "</div>\n",
      "<div class=\"item active\">\n",
      "<img alt=\"\" class=\"slide-image\" src=\"img/pic8_0002_b43bf91d0e8ffc5f08bd68d3ee90b9b9.jpg\"/>\n",
      "</div>\n",
      "</div>\n",
      "<a class=\"left carousel-control\" data-slide=\"prev\" href=\"#carousel-example-generic\">\n",
      "<span class=\"glyphicon glyphicon-chevron-left\"></span>\n",
      "</a>\n",
      "<a class=\"right carousel-control\" data-slide=\"next\" href=\"#carousel-example-generic\">\n",
      "<span class=\"glyphicon glyphicon-chevron-right\"></span>\n",
      "</a>\n",
      "</div>\n",
      "</div>\n",
      "</div>\n",
      "<div class=\"row\">\n",
      "<div class=\"col-sm-4 col-lg-4 col-md-4\">\n",
      "<div class=\"thumbnail\">\n",
      "<img alt=\"\" src=\"img/pic_0000_073a9256d9624c92a05dc680fc28865f.jpg\"/>\n",
      "<div class=\"caption\">\n",
      "<h4 class=\"pull-right\">$24.99</h4>\n",
      "<h4><a href=\"#\">EarPod</a>\n",
      "</h4>\n",
      "<p>See more snippets like this online store item at web store </p>\n",
      "</div>\n",
      "<div class=\"ratings\">\n",
      "<p class=\"pull-right\">65 reviews</p>\n",
      "<p>\n",
      "<span class=\"glyphicon glyphicon-star\"></span>\n",
      "<span class=\"glyphicon glyphicon-star\"></span>\n",
      "<span class=\"glyphicon glyphicon-star\"></span>\n",
      "<span class=\"glyphicon glyphicon-star\"></span>\n",
      "<span class=\"glyphicon glyphicon-star\"></span>\n",
      "</p>\n",
      "</div>\n",
      "</div>\n",
      "</div>\n",
      "<div class=\"col-sm-4 col-lg-4 col-md-4\">\n",
      "<div class=\"thumbnail\">\n",
      "<img alt=\"\" src=\"img/pic_0005_828148335519990171_c234285520ff.jpg\"/>\n",
      "<div class=\"caption\">\n",
      "<h4 class=\"pull-right\">$64.99</h4>\n",
      "<h4><a href=\"#\">New Pocket</a>\n",
      "</h4>\n",
      "<p>This is a short description. Lorem ipsum dolor sit amet, consectetur adipiscing elit.</p>\n",
      "</div>\n",
      "<div class=\"ratings\">\n",
      "<p class=\"pull-right\">12 reviews</p>\n",
      "<p>\n",
      "<span class=\"glyphicon glyphicon-star\"></span>\n",
      "<span class=\"glyphicon glyphicon-star\"></span>\n",
      "<span class=\"glyphicon glyphicon-star\"></span>\n",
      "<span class=\"glyphicon glyphicon-star\"></span>\n",
      "<span class=\"glyphicon glyphicon-star-empty\"></span>\n",
      "</p>\n",
      "</div>\n",
      "</div>\n",
      "</div>\n",
      "<div class=\"col-sm-4 col-lg-4 col-md-4\">\n",
      "<div class=\"thumbnail\">\n",
      "<img alt=\"\" src=\"img/pic_0006_949802399717918904_339a16e02268.jpg\"/>\n",
      "<div class=\"caption\">\n",
      "<h4 class=\"pull-right\">$74.99</h4>\n",
      "<h4><a href=\"#\">New sunglasses</a>\n",
      "</h4>\n",
      "<p>This is a short description. Lorem ipsum dolor sit amet, consectetur adipiscing elit.</p>\n",
      "</div>\n",
      "<div class=\"ratings\">\n",
      "<p class=\"pull-right\">31 reviews</p>\n",
      "<p>\n",
      "<span class=\"glyphicon glyphicon-star\"></span>\n",
      "<span class=\"glyphicon glyphicon-star\"></span>\n",
      "<span class=\"glyphicon glyphicon-star\"></span>\n",
      "<span class=\"glyphicon glyphicon-star\"></span>\n",
      "<span class=\"glyphicon glyphicon-star-empty\"></span>\n",
      "</p>\n",
      "</div>\n",
      "</div>\n",
      "</div>\n",
      "<div class=\"col-sm-4 col-lg-4 col-md-4\">\n",
      "<div class=\"thumbnail\">\n",
      "<img alt=\"\" src=\"img/pic_0008_975641865984412951_ade7a767cfc8.jpg\"/>\n",
      "<div class=\"caption\">\n",
      "<h4 class=\"pull-right\">$84.99</h4>\n",
      "<h4><a href=\"#\">Art Cup</a>\n",
      "</h4>\n",
      "<p>This is a short description. Lorem ipsum dolor sit amet, consectetur adipiscing elit.</p>\n",
      "</div>\n",
      "<div class=\"ratings\">\n",
      "<p class=\"pull-right\">6 reviews</p>\n",
      "<p>\n",
      "<span class=\"glyphicon glyphicon-star\"></span>\n",
      "<span class=\"glyphicon glyphicon-star\"></span>\n",
      "<span class=\"glyphicon glyphicon-star\"></span>\n",
      "<span class=\"glyphicon glyphicon-star-empty\"></span>\n",
      "<span class=\"glyphicon glyphicon-star-empty\"></span>\n",
      "</p>\n",
      "</div>\n",
      "</div>\n",
      "</div>\n",
      "<div class=\"col-sm-4 col-lg-4 col-md-4\">\n",
      "<div class=\"thumbnail\">\n",
      "<img alt=\"\" src=\"img/pic_0001_160243060888837960_1c3bcd26f5fe.jpg\"/>\n",
      "<div class=\"caption\">\n",
      "<h4 class=\"pull-right\">$94.99</h4>\n",
      "<h4><a href=\"#\">iphone gamepad</a>\n",
      "</h4>\n",
      "<p>This is a short description. Lorem ipsum dolor sit amet, consectetur adipiscing elit.</p>\n",
      "</div>\n",
      "<div class=\"ratings\">\n",
      "<p class=\"pull-right\">18 reviews</p>\n",
      "<p>\n",
      "<span class=\"glyphicon glyphicon-star\"></span>\n",
      "<span class=\"glyphicon glyphicon-star\"></span>\n",
      "<span class=\"glyphicon glyphicon-star\"></span>\n",
      "<span class=\"glyphicon glyphicon-star\"></span>\n",
      "<span class=\"glyphicon glyphicon-star-empty\"></span>\n",
      "</p>\n",
      "</div>\n",
      "</div>\n",
      "</div>\n",
      "<div class=\"col-sm-4 col-lg-4 col-md-4\">\n",
      "<div class=\"thumbnail\">\n",
      "<img alt=\"\" src=\"img/pic_0002_556261037783915561_bf22b24b9e4e.jpg\"/>\n",
      "<div class=\"caption\">\n",
      "<h4 class=\"pull-right\">$214.5</h4>\n",
      "<h4><a href=\"#\">Best Bed</a>\n",
      "</h4>\n",
      "<p>This is a short description. Lorem ipsum dolor sit amet, consectetur adipiscing elit.</p>\n",
      "</div>\n",
      "<div class=\"ratings\">\n",
      "<p class=\"pull-right\">18 reviews</p>\n",
      "<p>\n",
      "<span class=\"glyphicon glyphicon-star\"></span>\n",
      "<span class=\"glyphicon glyphicon-star\"></span>\n",
      "<span class=\"glyphicon glyphicon-star\"></span>\n",
      "<span class=\"glyphicon glyphicon-star\"></span>\n",
      "<span class=\"glyphicon glyphicon-star-empty\"></span>\n",
      "</p>\n",
      "</div>\n",
      "</div>\n",
      "</div>\n",
      "<div class=\"col-sm-4 col-lg-4 col-md-4\">\n",
      "<div class=\"thumbnail\">\n",
      "<img alt=\"\" src=\"img/pic_0011_1032030741401174813_4e43d182fce7.jpg\"/>\n",
      "<div class=\"caption\">\n",
      "<h4 class=\"pull-right\">$500</h4>\n",
      "<h4><a href=\"#\">iWatch</a>\n",
      "</h4>\n",
      "<p>This is a short description. Lorem ipsum dolor sit amet, consectetur adipiscing elit.</p>\n",
      "</div>\n",
      "<div class=\"ratings\">\n",
      "<p class=\"pull-right\">35 reviews</p>\n",
      "<p>\n",
      "<span class=\"glyphicon glyphicon-star\"></span>\n",
      "<span class=\"glyphicon glyphicon-star\"></span>\n",
      "<span class=\"glyphicon glyphicon-star\"></span>\n",
      "<span class=\"glyphicon glyphicon-star\"></span>\n",
      "<span class=\"glyphicon glyphicon-star-empty\"></span>\n",
      "</p>\n",
      "</div>\n",
      "</div>\n",
      "</div>\n",
      "<div class=\"col-sm-4 col-lg-4 col-md-4\">\n",
      "<div class=\"thumbnail\">\n",
      "<img alt=\"\" src=\"img/pic_0010_1027323963916688311_09cc2d7648d9.jpg\"/>\n",
      "<div class=\"caption\">\n",
      "<h4 class=\"pull-right\">$15.5</h4>\n",
      "<h4><a href=\"#\">Park tickets</a>\n",
      "</h4>\n",
      "<p>This is a short description. Lorem ipsum dolor sit amet, consectetur adipiscing elit.</p>\n",
      "</div>\n",
      "<div class=\"ratings\">\n",
      "<p class=\"pull-right\">8 reviews</p>\n",
      "<p>\n",
      "<span class=\"glyphicon glyphicon-star\"></span>\n",
      "<span class=\"glyphicon glyphicon-star\"></span>\n",
      "<span class=\"glyphicon glyphicon-star\"></span>\n",
      "<span class=\"glyphicon glyphicon-star\"></span>\n",
      "<span class=\"glyphicon glyphicon-star-empty\"></span>\n",
      "</p>\n",
      "</div>\n",
      "</div>\n",
      "</div>\n",
      "</div>\n",
      "</div>\n",
      "</div>\n",
      "</div>\n",
      "<!-- /.container -->\n",
      "<div class=\"container\">\n",
      "<hr/>\n",
      "<!-- Footer -->\n",
      "<footer>\n",
      "<div class=\"row\">\n",
      "<div class=\"col-lg-12\">\n",
      "<p>Copyright © Your Website 2014</p>\n",
      "</div>\n",
      "</div>\n",
      "</footer>\n",
      "</div>\n",
      "<!-- /.container -->\n",
      "<!-- jQuery -->\n",
      "<script src=\"js/jquery.js\"></script>\n",
      "<!-- Bootstrap Core JavaScript -->\n",
      "<script src=\"js/bootstrap.min.js\"></script>\n",
      "</body>\n",
      "</html>\n"
     ]
    }
   ],
   "source": [
    "print Soup"
   ]
  },
  {
   "cell_type": "code",
   "execution_count": 7,
   "metadata": {
    "collapsed": false
   },
   "outputs": [
    {
     "name": "stdout",
     "output_type": "stream",
     "text": [
      "Untitled.ipynb\tuntitled.txt\r\n"
     ]
    }
   ],
   "source": [
    "!ls"
   ]
  },
  {
   "cell_type": "code",
   "execution_count": 8,
   "metadata": {
    "collapsed": false
   },
   "outputs": [
    {
     "ename": "SyntaxError",
     "evalue": "invalid syntax (<ipython-input-8-5330dcae55ac>, line 1)",
     "output_type": "error",
     "traceback": [
      "\u001b[0;36m  File \u001b[0;32m\"<ipython-input-8-5330dcae55ac>\"\u001b[0;36m, line \u001b[0;32m1\u001b[0m\n\u001b[0;31m    *ls\u001b[0m\n\u001b[0m    ^\u001b[0m\n\u001b[0;31mSyntaxError\u001b[0m\u001b[0;31m:\u001b[0m invalid syntax\n"
     ]
    }
   ],
   "source": [
    "*ls"
   ]
  },
  {
   "cell_type": "code",
   "execution_count": null,
   "metadata": {
    "collapsed": true
   },
   "outputs": [],
   "source": []
  }
 ],
 "metadata": {
  "kernelspec": {
   "display_name": "Python [default]",
   "language": "python",
   "name": "python2"
  },
  "language_info": {
   "codemirror_mode": {
    "name": "ipython",
    "version": 2
   },
   "file_extension": ".py",
   "mimetype": "text/x-python",
   "name": "python",
   "nbconvert_exporter": "python",
   "pygments_lexer": "ipython2",
   "version": "2.7.13"
  }
 },
 "nbformat": 4,
 "nbformat_minor": 2
}
